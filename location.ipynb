{
 "cells": [
  {
   "cell_type": "code",
   "execution_count": 10,
   "metadata": {},
   "outputs": [],
   "source": [
    "import re\n",
    "p1=\"[0-9]{1,3}°[0-9]{1,3}′[0-9]{1,3}[.][0-9]{1,2}″N、[0-9]{1,3}°[0-9]{1,3}′[0-9]{1,3}[.][0-9]{1,2}″E\"\n",
    "pattern=re.compile(p1)\n",
    "s1=\"经查实，北京超市发连锁股份有限公司超市发青塔店2017年1月16日在北京市丰台区大成南里一区23号楼北京超市发连锁股份有限公司超市发青塔店接入排水管网处向排水管网排放超标污水，排水口GPS定位为39°53′17.91″N、116°14′47.40″E。\""
   ]
  },
  {
   "cell_type": "code",
   "execution_count": 11,
   "metadata": {},
   "outputs": [
    {
     "data": {
      "text/plain": [
       "'39°53′17.91″N、116°14′47.40″E'"
      ]
     },
     "execution_count": 11,
     "metadata": {},
     "output_type": "execute_result"
    }
   ],
   "source": [
    "LLstr=pattern.findall(s1)[0]\n",
    "LLstr"
   ]
  },
  {
   "cell_type": "code",
   "execution_count": 36,
   "metadata": {},
   "outputs": [],
   "source": [
    "p2='[0-9]+[.]?[0-9]+'\n",
    "pattern2=re.compile(p2)\n",
    "LLlist=pattern2.findall(LLstr)"
   ]
  },
  {
   "cell_type": "code",
   "execution_count": 40,
   "metadata": {},
   "outputs": [
    {
     "data": {
      "text/plain": [
       "(39.888308333333335, 116.2465)"
      ]
     },
     "execution_count": 40,
     "metadata": {},
     "output_type": "execute_result"
    }
   ],
   "source": [
    "lat=int(LLlist[0])+float(LLlist[1])/60+float(LLlist[2])/3600\n",
    "lon=int(LLlist[3])+float(LLlist[4])/60+float(LLlist[5])/3600\n",
    "lat,lon"
   ]
  },
  {
   "cell_type": "code",
   "execution_count": null,
   "metadata": {},
   "outputs": [],
   "source": []
  }
 ],
 "metadata": {
  "kernelspec": {
   "display_name": "Python 3",
   "language": "python",
   "name": "python3"
  },
  "language_info": {
   "codemirror_mode": {
    "name": "ipython",
    "version": 3
   },
   "file_extension": ".py",
   "mimetype": "text/x-python",
   "name": "python",
   "nbconvert_exporter": "python",
   "pygments_lexer": "ipython3",
   "version": "3.6.4"
  }
 },
 "nbformat": 4,
 "nbformat_minor": 2
}
