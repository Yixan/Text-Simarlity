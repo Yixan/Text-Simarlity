{
 "cells": [
  {
   "cell_type": "code",
   "execution_count": 23,
   "metadata": {},
   "outputs": [],
   "source": [
    "import pandas as pd\n",
    "import numpy as np\n",
    "from bert_serving.client import BertClient\n"
   ]
  },
  {
   "cell_type": "code",
   "execution_count": 8,
   "metadata": {},
   "outputs": [],
   "source": [
    "bc = BertClient()\n"
   ]
  },
  {
   "cell_type": "code",
   "execution_count": 22,
   "metadata": {},
   "outputs": [
    {
     "name": "stdout",
     "output_type": "stream",
     "text": [
      "结束\n"
     ]
    }
   ],
   "source": [
    "df=pd.read_csv('data\\company.csv')\n",
    "df1=df[df['POWER_NAME']=='对客运经营者、货运经营者、危险货物运输企业或者单位不按规定维护、检测运输车辆的行为进行处罚']\n",
    "df1.to_csv(\"test.csv\")\n",
    "scorce=bc.encode(df1['ILLEGAL_FACTS'].values.tolist())\n",
    "print(\"结束\")\n",
    "np.save(\"scorce_test.npy\",scorce)"
   ]
  },
  {
   "cell_type": "code",
   "execution_count": 16,
   "metadata": {
    "collapsed": true
   },
   "outputs": [
    {
     "name": "stdout",
     "output_type": "stream",
     "text": [
      "请输入待推荐的关键词：北京市丰台区\n"
     ]
    },
    {
     "data": {
      "text/plain": [
       "328           北京市朝阳区\n",
       "155        北京市朝阳区呼家楼\n",
       "1068      北京市海淀区丰户营村\n",
       "899       北京市石景山区水屯村\n",
       "2830      北京市昌平区阳坊镇北\n",
       "2279      北京市石景山区吴家村\n",
       "397       北京市顺义区北小营镇\n",
       "2348    北京市昌平区崔村镇工业区\n",
       "2876        北京市丰台科技园\n",
       "2955     北京市顺义区牛山工业区\n",
       "Name: ADDRESS, dtype: object"
      ]
     },
     "execution_count": 16,
     "metadata": {},
     "output_type": "execute_result"
    }
   ],
   "source": [
    "scorce_df=pd.DataFrame(columns=['ID','ADDRESS','SCORCE'])\n",
    "scorce_df['ID']=df['ID']\n",
    "scorce_df['ADDRESS']=df['ADDRESS']\n",
    "target=input(\"请输入待推荐的关键词：\")\n",
    "v1=bc.encode([target])\n",
    "sim_list=list()\n",
    "for i in range(0,len(df)):\n",
    "    v2=scorce[i]\n",
    "    vector1 = np.array(v1)\n",
    "    vector2 = np.array(v2)\n",
    "    sim=np.dot(vector1,vector2.T)/(np.linalg.norm(vector1)*(np.linalg.norm(vector2)))\n",
    "    sim_list.append(sim)\n",
    "scorce_df['SCORCE']=sim_list\n",
    "scorce_df=scorce_df.sort_values(by=['SCORCE'],ascending=False)\n",
    "scorce_df['ADDRESS'].head(10)"
   ]
  },
  {
   "cell_type": "code",
   "execution_count": 21,
   "metadata": {},
   "outputs": [
    {
     "data": {
      "text/plain": [
       "array([[0.8936991]], dtype=float32)"
      ]
     },
     "execution_count": 21,
     "metadata": {},
     "output_type": "execute_result"
    }
   ],
   "source": [
    "v1=bc.encode([\"海淀区\"])\n",
    "v2=bc.encode([\"大兴区\"])\n",
    "vector1 = np.array(v1)\n",
    "vector2 = np.array(v2)\n",
    "sim=np.dot(vector1,vector2.T)/(np.linalg.norm(vector1)*(np.linalg.norm(vector2)))"
   ]
  },
  {
   "cell_type": "code",
   "execution_count": 83,
   "metadata": {},
   "outputs": [],
   "source": [
    "def mostSimarity(target,discard):\n",
    "    scorce_df=pd.DataFrame(columns=['ID','ILLEGAL_FACTS','SCORCE'])\n",
    "    scorce_df['ID']=df1['ID']\n",
    "    scorce_df['ILLEGAL_FACTS']=df1['ILLEGAL_FACTS']\n",
    "    v1=bc.encode([target])\n",
    "    sim_list=list()\n",
    "    for i in range(0,len(df1)):\n",
    "        v2=scorce[i]\n",
    "        vector1 = np.array(v1)\n",
    "        vector2 = np.array(v2)\n",
    "        sim=np.dot(vector1,vector2.T)/(np.linalg.norm(vector1)*(np.linalg.norm(vector2)))\n",
    "        sim_list.append(sim)\n",
    "    scorce_df['SCORCE']=sim_list\n",
    "    scorce_df=scorce_df.drop(index=df1[df1['ID'].isin(discard)].index)\n",
    "    scorce_df=scorce_df.sort_values(by=['SCORCE'],ascending=False)\n",
    "    discard.extend(scorce_df.head(1)['ID'].values.tolist())\n",
    "    target=scorce_df.head(1)['ILLEGAL_FACTS'].values[0]\n",
    "    return target,discard"
   ]
  },
  {
   "cell_type": "code",
   "execution_count": 96,
   "metadata": {},
   "outputs": [],
   "source": [
    "with open ('history.txt','a',encoding='utf-8') as file:\n",
    "#     history=list()\n",
    "    for i in range(0,len(df1)):\n",
    "        discard=list()\n",
    "        target=df1.iloc[i]['ILLEGAL_FACTS']\n",
    "        discard.append(df1.iloc[i]['ID'])\n",
    "        for j in range(0,4):\n",
    "            target,discard=mostSimarity(target,discard)\n",
    "        for item in discard:\n",
    "            file.write(item+',')\n",
    "        file.write('\\n')"
   ]
  },
  {
   "cell_type": "code",
   "execution_count": null,
   "metadata": {},
   "outputs": [],
   "source": []
  },
  {
   "cell_type": "code",
   "execution_count": null,
   "metadata": {},
   "outputs": [],
   "source": []
  }
 ],
 "metadata": {
  "kernelspec": {
   "display_name": "Python 3",
   "language": "python",
   "name": "python3"
  },
  "language_info": {
   "codemirror_mode": {
    "name": "ipython",
    "version": 3
   },
   "file_extension": ".py",
   "mimetype": "text/x-python",
   "name": "python",
   "nbconvert_exporter": "python",
   "pygments_lexer": "ipython3",
   "version": "3.6.4"
  }
 },
 "nbformat": 4,
 "nbformat_minor": 2
}
