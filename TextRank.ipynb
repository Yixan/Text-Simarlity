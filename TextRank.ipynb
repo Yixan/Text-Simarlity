{
 "cells": [
  {
   "cell_type": "code",
   "execution_count": 1,
   "metadata": {},
   "outputs": [],
   "source": [
    "import textrank4zh\n",
    "from textrank4zh import TextRank4Keyword, TextRank4Sentence\n",
    "import numpy as np\n",
    "import pandas as pd\n",
    "import re"
   ]
  },
  {
   "cell_type": "code",
   "execution_count": 2,
   "metadata": {},
   "outputs": [
    {
     "name": "stderr",
     "output_type": "stream",
     "text": [
      "Building prefix dict from the default dictionary ...\n",
      "Loading model from cache C:\\Users\\Yixuan\\AppData\\Local\\Temp\\jieba.cache\n",
      "Loading model cost 0.748 seconds.\n",
      "Prefix dict has been built succesfully.\n"
     ]
    },
    {
     "name": "stdout",
     "output_type": "stream",
     "text": [
      "关键词：\n",
      "旅游 0.04815261309263466\n",
      "怀柔区 0.04184690403337964\n",
      "现状 0.029749073165234063\n",
      "硬化 0.029472091124519588\n",
      "占地面积 0.029472091124519588\n",
      "违反 0.029472091124519588\n",
      "中华人民共和国 0.029472091124519588\n",
      "土地利用 0.029426088138245547\n",
      "集体土地 0.026765927425053685\n",
      "房屋 0.026765927425053685\n"
     ]
    }
   ],
   "source": [
    "with open('./test.txt','r') as fileread:\n",
    "    text = fileread.read()\n",
    "tr4w = TextRank4Keyword()\n",
    "tr4w.analyze(text=text, lower=True, window=2)  # py2中text必须是utf8编码的str或者unicode对象，py3中必须是utf8编码的bytes或者str对象\n",
    "\n",
    "print( '关键词：' )\n",
    "for item in tr4w.get_keywords(10, word_min_len=1):\n",
    "    print(item.word, item.weight)"
   ]
  },
  {
   "cell_type": "code",
   "execution_count": 3,
   "metadata": {},
   "outputs": [
    {
     "name": "stdout",
     "output_type": "stream",
     "text": [
      "\n",
      "关键短语：\n",
      "怀柔区土地利用\n",
      "\n",
      "摘要：\n",
      "0 0.24695589276706015 2013年7月，赵海华未经批准，在北京市怀柔区渤海镇田仙峪村村东南侧占用集体土地建设砖混结构房屋北房8间、南房6间、门道2间、东西厢房3处合8间，硬化地面，已圈墙，用于旅游接待\n",
      "2 0.17157020280802804 查《2014年怀柔区土地利用现状图》，现状地类为村庄、果园、旱地\n",
      "5 0.16666666666666666 其行为违反了《中华人民共和国土地管理法》第四十三条第一款的规定，属于非法占地\n"
     ]
    }
   ],
   "source": [
    "print()\n",
    "print( '关键短语：' )\n",
    "for phrase in tr4w.get_keyphrases(keywords_num=20, min_occur_num= 2):\n",
    "    print(phrase)\n",
    "\n",
    "tr4s = TextRank4Sentence()\n",
    "tr4s.analyze(text=text, lower=True, source = 'all_filters')\n",
    "\n",
    "print()\n",
    "print( '摘要：' )\n",
    "for item in tr4s.get_key_sentences(num=3):\n",
    "    print(item.index, item.weight, item.sentence) "
   ]
  },
  {
   "cell_type": "code",
   "execution_count": 4,
   "metadata": {},
   "outputs": [],
   "source": [
    "file = open(\"D:\\\\NLP\\\\case_recommender\\\\recommender.txt\", 'a', encoding='utf-8')\n",
    "basic_df = pd.read_csv('D:\\\\NLP\\\\case_recommender\\\\data\\\\basic_bj.csv')"
   ]
  },
  {
   "cell_type": "code",
   "execution_count": 5,
   "metadata": {},
   "outputs": [],
   "source": [
    "index= ['ID','Illegal Facts','KeyWord_1','KeyWord_2','KeyWord_3','KeyWord_4','KeyWord_5','KeyWord_6','KeyWord_7','KeyWord_8','KeyWord_9','KeyWord_10']\n",
    "tagDF = pd.DataFrame(index=index)"
   ]
  },
  {
   "cell_type": "code",
   "execution_count": 54,
   "metadata": {},
   "outputs": [],
   "source": [
    "with open('keywords_Textrank.txt','w',encoding='utf-8') as file:\n",
    "    for index,row in basic_df.iterrows():\n",
    "        text=row['ILLEGAL_FACTS']\n",
    "        tr4w.analyze(text=text, lower=True, window=2)\n",
    "        words=[item.word for item in tr4w.get_keywords(10, word_min_len=1)]\n",
    "        words_str='&&'.join(words)\n",
    "        file.write(row['ID']+'&&')\n",
    "        file.write(text.replace('\\n',' ').replace('\\r\\n',' ')+'&&')\n",
    "        file.write(words_str+'\\n')\n",
    "# print(keyWords)"
   ]
  },
  {
   "cell_type": "code",
   "execution_count": null,
   "metadata": {},
   "outputs": [],
   "source": []
  }
 ],
 "metadata": {
  "kernelspec": {
   "display_name": "Python 3",
   "language": "python",
   "name": "python3"
  },
  "language_info": {
   "codemirror_mode": {
    "name": "ipython",
    "version": 3
   },
   "file_extension": ".py",
   "mimetype": "text/x-python",
   "name": "python",
   "nbconvert_exporter": "python",
   "pygments_lexer": "ipython3",
   "version": "3.6.4"
  }
 },
 "nbformat": 4,
 "nbformat_minor": 2
}
