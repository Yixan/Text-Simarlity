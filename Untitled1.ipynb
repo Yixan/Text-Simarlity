{
 "cells": [
  {
   "cell_type": "code",
   "execution_count": 8,
   "metadata": {},
   "outputs": [],
   "source": [
    "import pandas as pd\n",
    "import pickle\n",
    "# import fool"
   ]
  },
  {
   "cell_type": "code",
   "execution_count": 2,
   "metadata": {},
   "outputs": [
    {
     "ename": "NameError",
     "evalue": "name 'fool' is not defined",
     "output_type": "error",
     "traceback": [
      "\u001b[1;31m---------------------------------------------------------------------------\u001b[0m",
      "\u001b[1;31mNameError\u001b[0m                                 Traceback (most recent call last)",
      "\u001b[1;32m<ipython-input-2-8ccac16e4bc3>\u001b[0m in \u001b[0;36m<module>\u001b[1;34m\u001b[0m\n\u001b[1;32m----> 1\u001b[1;33m \u001b[0mwords\u001b[0m\u001b[1;33m,\u001b[0m\u001b[0mners\u001b[0m\u001b[1;33m=\u001b[0m\u001b[0mfool\u001b[0m\u001b[1;33m.\u001b[0m\u001b[0manalysis\u001b[0m\u001b[1;33m(\u001b[0m\u001b[0mfact\u001b[0m\u001b[1;33m)\u001b[0m\u001b[1;33m\u001b[0m\u001b[0m\n\u001b[0m",
      "\u001b[1;31mNameError\u001b[0m: name 'fool' is not defined"
     ]
    }
   ],
   "source": [
    "words,ners=fool.analysis(fact)"
   ]
  },
  {
   "cell_type": "code",
   "execution_count": null,
   "metadata": {},
   "outputs": [],
   "source": [
    "# case_df=pd.read_csv('data\\case.csv')\n",
    "# case_df['DATE']=''\n",
    "# for i in range(0,len(case_df)):\n",
    "#     fact=case_df.iloc[i,2]\n",
    "#     words,ners=fool.analysis(fact)\n",
    "#     for n in ners[0]:\n",
    "#         if n[2]=='time':\n",
    "#             case_df.loc[i,'DATE']=n[3]\n",
    "# case_df.head()\n"
   ]
  },
  {
   "cell_type": "code",
   "execution_count": null,
   "metadata": {},
   "outputs": [],
   "source": [
    "#  case_df.to_csv(\"data/case1.csv\")"
   ]
  },
  {
   "cell_type": "code",
   "execution_count": 4,
   "metadata": {},
   "outputs": [
    {
     "name": "stdout",
     "output_type": "stream",
     "text": [
      "[[0.93472904]]\n"
     ]
    }
   ],
   "source": [
    "import numpy as np\n",
    "from bert_serving.client import BertClient\n",
    "bc = BertClient()\n",
    "# print(bc.encode(['北京搜厚物业管理有限公司']))\n",
    "# print(bc.encode(['年', '月']))\n",
    "v1=bc.encode(['北京搜厚物业管理有限公司'])\n",
    "v2=bc.encode(['北京时尚华庭酒店管理有限公司'])\n",
    "vector1 = np.array(v1)\n",
    "vector2 = np.array(v2)\n",
    "op7=np.dot(vector1,vector2.T)/(np.linalg.norm(vector1)*(np.linalg.norm(vector2)))\n",
    "print(op7)"
   ]
  },
  {
   "cell_type": "code",
   "execution_count": 98,
   "metadata": {},
   "outputs": [],
   "source": [
    "df=pd.read_csv('data\\case2.csv')\n",
    "df_company=df.dropna(axis=0, how='any', thresh=None, subset=['COMPANY_NAME'], inplace=False).reset_index(drop=True)\n",
    "df_company['COMPANY_NAME']=df_company['COMPANY_NAME'].map(lambda x:x.strip())\n",
    "df_company=df_company.dropna(axis=0, how='any', thresh=None, subset=['COMPANY_NAME'], inplace=False).reset_index(drop=True)\n",
    "df_company.to_csv('data/company.csv')"
   ]
  },
  {
   "cell_type": "code",
   "execution_count": 80,
   "metadata": {},
   "outputs": [],
   "source": [
    "def regularization(time):\n",
    "    date=time.split(' ')[0].strip()\n",
    "#     print(date)\n",
    "    d=date.split('/')\n",
    "    return d[2]+'年'+d[1]+'月'+d[0]+'日'\n",
    "    "
   ]
  },
  {
   "cell_type": "code",
   "execution_count": 81,
   "metadata": {},
   "outputs": [],
   "source": [
    "df['PUNISHMENT_DATE']=df['PUNISHMENT_DATE'].map(lambda x:regularization(x) )"
   ]
  },
  {
   "cell_type": "code",
   "execution_count": 82,
   "metadata": {},
   "outputs": [],
   "source": [
    "df.to_csv(\"data/case3.csv\")"
   ]
  },
  {
   "cell_type": "code",
   "execution_count": 9,
   "metadata": {},
   "outputs": [
    {
     "name": "stdout",
     "output_type": "stream",
     "text": [
      "结束\n"
     ]
    }
   ],
   "source": [
    "scorce=bc.encode(df_company['COMPANY_NAME'].values.tolist())\n",
    "print(\"结束\")\n",
    "\n"
   ]
  },
  {
   "cell_type": "code",
   "execution_count": 14,
   "metadata": {},
   "outputs": [],
   "source": [
    "np.save(\"scorce.npy\",scorce)"
   ]
  },
  {
   "cell_type": "code",
   "execution_count": 131,
   "metadata": {},
   "outputs": [
    {
     "name": "stdout",
     "output_type": "stream",
     "text": [
      "结束\n"
     ]
    }
   ],
   "source": [
    "scorce2=bc.encode(df1['ILLEGAL_FACTS'].values.tolist())\n",
    "np.save(\"scorce2.npy\",scorce2)\n",
    "print(\"结束\")"
   ]
  },
  {
   "cell_type": "code",
   "execution_count": 133,
   "metadata": {},
   "outputs": [
    {
     "name": "stdout",
     "output_type": "stream",
     "text": [
      "请输入待推荐的关键词：北京坎普尔环保技术有限公司未取得污水排入排水管网许可证向北京市平谷区马坊工业园西区249号东北角排水管网排放污水。 上述事实有询问笔录、现场检查笔录、现场实景照片、现场复查笔录等证据佐证。 你公司未取得污水排入排水管网许可证向排水管网排放污水的行为，违反了《城镇排水与污水处理条例》第二十一条第一款的规定\n"
     ]
    }
   ],
   "source": [
    "scorce_df=pd.DataFrame(columns=['ID','ILLEGAL_FACTS','SCORCE'])\n",
    "scorce_df['ID']=df1['ID']\n",
    "scorce_df['ILLEGAL_FACTS']=df1['ILLEGAL_FACTS']\n",
    "target=input(\"请输入待推荐的关键词：\")\n",
    "v1=bc.encode([target])\n",
    "sim_list=list()\n",
    "for i in range(0,len(df1)):\n",
    "    v2=scorce2[i]\n",
    "    vector1 = np.array(v1)\n",
    "    vector2 = np.array(v2)\n",
    "    sim=np.dot(vector1,vector2.T)/(np.linalg.norm(vector1)*(np.linalg.norm(vector2)))\n",
    "    sim_list.append(sim)\n",
    "scorce_df['SCORCE']=sim_list\n",
    "scorce_df=scorce_df.sort_values(by=['SCORCE'],ascending=False)\n"
   ]
  },
  {
   "cell_type": "code",
   "execution_count": 134,
   "metadata": {},
   "outputs": [
    {
     "name": "stdout",
     "output_type": "stream",
     "text": [
      "                                      ID  \\\n",
      "42  3bc86447-ba03-4411-ad80-f4d2ec3b2cd1   \n",
      "6   ff2a132f-259a-422d-9d36-3d297225221b   \n",
      "14  c6922b78-da84-45e1-9d11-01a6e7df16b0   \n",
      "0   df813208-d477-4801-b503-41bf77a2ef1e   \n",
      "1   0f742164-96de-45ec-a436-a5084812804a   \n",
      "10  4be605d3-ca91-4861-af86-3b66b6a984fd   \n",
      "35  ae50ad48-eee9-44d6-8031-2d55eeb2bf7c   \n",
      "25  8a1c23a1-f645-4c83-8c4e-d008346a1f7a   \n",
      "38  7c1b6861-e656-459c-918c-d22b270c8696   \n",
      "51  6f06077e-4f3c-4c0a-be45-25b64e9baecb   \n",
      "2   04ba137b-ecd0-4bf6-afa5-78b995e89fc0   \n",
      "11  222321c2-6dce-4e00-ac45-b4e5d80c90cf   \n",
      "12  228458f8-dd5a-4642-b0b6-414bfbc96556   \n",
      "5   9e302fe3-bff8-4916-87cd-8b5c51fc49c6   \n",
      "26  9c448e8a-7513-4207-9099-ea26f74b8c5f   \n",
      "32  ea25db35-b993-436f-a822-c11aaa61701a   \n",
      "31  91d09e36-d6fd-4b5f-b81c-a1d45db1c12d   \n",
      "13  28def60a-94ce-4259-a553-e6d05a12e678   \n",
      "24  3818fca7-74ef-40a7-89d2-0380668a2ae3   \n",
      "17  7217f146-5bd5-42bf-a878-242caa3c19f0   \n",
      "\n",
      "                                        ILLEGAL_FACTS        SCORCE  \n",
      "42  北京坎普尔环保技术有限公司未取得污水排入排水管网许可证向北京市平谷区马坊工业园西区249号东...   [0.9999998]  \n",
      "6   北京蟹闲居酒家有限公司处在城镇排水设施覆盖范围内，其依照北京市怀柔区环保局《关于北京蟹闲居酒...    [0.942171]  \n",
      "14  经查实，北京三替城市管理有限责任公司在北京市海淀区西四环北路158号未取得污水排入排水管网许...   [0.9099253]  \n",
      "0   经查实，北京市石景山区公厕粪肥管理处2016年6月在北京市石景山区京源路甲2号东门南侧20米...   [0.9090543]  \n",
      "1   经查实，北京必胜客比萨饼有限公司积水潭餐厅2007年12月在北京市西城区新街口北大街1号1号...   [0.9035417]  \n",
      "10  经查实，北京德合信国际商城有限公司五路居站分公司在北京市海淀区地铁六号线五路居站地铁A出入口...   [0.9002883]  \n",
      "35  经查实，北京中原华夏物业管理有限公司在北京市朝阳区东柏街9号经营的天之骄子小区未取得污水排入...  [0.90008044]  \n",
      "25  经查实，北京怡兴物业管理有限责任公司在北京市海淀区学清路8号科技财富中心西侧未取得污水排入排...   [0.8999547]  \n",
      "38  经查实，北京润丰世纪物业管理股份有限公司在北京市朝阳区安立路60号院润枫德尚苑小区南侧未取得...     [0.89902]  \n",
      "51  经查实，北京通厦汽车配件有限责任公司在北京市海淀区四拨子车站路西平房1-39号楼南侧未取得排...   [0.8962109]  \n",
      "2   经查实，北京天恒华辰物业管理有限责任公司2015年在北京市西城区翠花街富国里小区向排水设施排...  [0.89572793]  \n",
      "11  经查实，北京中电瑞达物业有限公司在北京市朝阳区林萃路1号上林世家未取得污水排入排水管网许可证...   [0.8938713]  \n",
      "12  经查实,北京天恒华辰物业管理有限责任公司于2017年5月5日在北京市石景山区西井四区未取得排...   [0.8927069]  \n",
      "5   经查实，华熙鑫安（北京）物业管理有限公司2016年11月在北京市海淀区复兴路69号乐视体育生...    [0.891909]  \n",
      "26  经查实，京港路劲物业管理（北京）有限公司于2010年起在北京市丰台区三路居88号院（蓝调国际...  [0.88839644]  \n",
      "32  经查实，北京联合文众汽车服务有限公司自2013年在北京市海淀区中关村南大街5号681号平房普...   [0.8870518]  \n",
      "31  经查实，北京联合文众汽车服务有限公司自2013年在北京市海淀区中关村南大街5号681号平房普...   [0.8870518]  \n",
      "13  经查实，北京前门金福德烤鸭店有限公司北沙滩酒店在北京市朝阳区德胜门外北沙滩2号如家酒店未取得...  [0.88691765]  \n",
      "24  经查实，北京景安世华上地酒店管理有限公司在北京市海淀区上地东路33号智选假日酒店东侧未取得污...   [0.8851554]  \n",
      "17  经查实,北京北辰信诚物业管理有限责任公司自2015年09月20日开始在北京市朝阳区北苑路18...  [0.88330597]  \n"
     ]
    }
   ],
   "source": [
    "print(scorce_df.head(20))"
   ]
  },
  {
   "cell_type": "code",
   "execution_count": 115,
   "metadata": {
    "collapsed": true
   },
   "outputs": [
    {
     "data": {
      "text/html": [
       "<div>\n",
       "<style scoped>\n",
       "    .dataframe tbody tr th:only-of-type {\n",
       "        vertical-align: middle;\n",
       "    }\n",
       "\n",
       "    .dataframe tbody tr th {\n",
       "        vertical-align: top;\n",
       "    }\n",
       "\n",
       "    .dataframe thead th {\n",
       "        text-align: right;\n",
       "    }\n",
       "</style>\n",
       "<table border=\"1\" class=\"dataframe\">\n",
       "  <thead>\n",
       "    <tr style=\"text-align: right;\">\n",
       "      <th></th>\n",
       "      <th>ID</th>\n",
       "      <th>NAME</th>\n",
       "      <th>ILLEGAL_FACTS</th>\n",
       "      <th>CITIZEN_NAME</th>\n",
       "      <th>COMPANY_NAME</th>\n",
       "      <th>ADDRESS</th>\n",
       "      <th>PUNISHMENT_DATE</th>\n",
       "      <th>POWER_ID</th>\n",
       "      <th>POWER_NAME</th>\n",
       "    </tr>\n",
       "  </thead>\n",
       "  <tbody>\n",
       "    <tr>\n",
       "      <th>0</th>\n",
       "      <td>df813208-d477-4801-b503-41bf77a2ef1e</td>\n",
       "      <td>北京市石景山区公厕粪肥管理处未取得污水排入排水管网许可证向城镇排水设施排放污水</td>\n",
       "      <td>经查实，北京市石景山区公厕粪肥管理处2016年6月在北京市石景山区京源路甲2号东门南侧20米...</td>\n",
       "      <td>NaN</td>\n",
       "      <td>北京市石景山区公厕粪肥管理处</td>\n",
       "      <td>北京市石景山区京源路甲8号</td>\n",
       "      <td>2017年15月3日</td>\n",
       "      <td>74cc2ff4-2796-40d5-a15f-d60c84747435</td>\n",
       "      <td>对排水户未取得排水许可证向城镇排水设施排放污水的行为进行处罚</td>\n",
       "    </tr>\n",
       "    <tr>\n",
       "      <th>1</th>\n",
       "      <td>0f742164-96de-45ec-a436-a5084812804a</td>\n",
       "      <td>北京必胜客比萨饼有限公司积水潭餐厅未取得污水排入排水管网许可证向城镇排水设施排放污水</td>\n",
       "      <td>经查实，北京必胜客比萨饼有限公司积水潭餐厅2007年12月在北京市西城区新街口北大街1号1号...</td>\n",
       "      <td>NaN</td>\n",
       "      <td>北京必胜客比萨饼有限公司积水潭餐厅</td>\n",
       "      <td>北京市西城区新街口北大街1号1号楼</td>\n",
       "      <td>2017年7月4日</td>\n",
       "      <td>74cc2ff4-2796-40d5-a15f-d60c84747435</td>\n",
       "      <td>对排水户未取得排水许可证向城镇排水设施排放污水的行为进行处罚</td>\n",
       "    </tr>\n",
       "    <tr>\n",
       "      <th>2</th>\n",
       "      <td>04ba137b-ecd0-4bf6-afa5-78b995e89fc0</td>\n",
       "      <td>北京天恒华辰物业管理有限责任公司未取得污水排入排水管网许可证向城镇排水设施排放污水</td>\n",
       "      <td>经查实，北京天恒华辰物业管理有限责任公司2015年在北京市西城区翠花街富国里小区向排水设施排...</td>\n",
       "      <td>NaN</td>\n",
       "      <td>北京天恒华辰物业管理有限责任公司</td>\n",
       "      <td>北京市西城区裕中西里小区38号楼</td>\n",
       "      <td>2017年11月5日</td>\n",
       "      <td>74cc2ff4-2796-40d5-a15f-d60c84747435</td>\n",
       "      <td>对排水户未取得排水许可证向城镇排水设施排放污水的行为进行处罚</td>\n",
       "    </tr>\n",
       "    <tr>\n",
       "      <th>3</th>\n",
       "      <td>1d3969b1-01e1-4d52-ac04-8aeb95a7f376</td>\n",
       "      <td>关于对北京市均豪物业管理股份有限公司未取得排水许可证向城镇排水设施排放污水的处罚</td>\n",
       "      <td>2017年3月8日，我行政机关执法人员专项检查，发现位于北京市朝阳区朝阳北路199号，北京市...</td>\n",
       "      <td>NaN</td>\n",
       "      <td>北京市均豪物业管理股份有限公司</td>\n",
       "      <td>北京市平谷区夏各庄镇公司院内</td>\n",
       "      <td>2017年7月7日</td>\n",
       "      <td>74cc2ff4-2796-40d5-a15f-d60c84747435</td>\n",
       "      <td>对排水户未取得排水许可证向城镇排水设施排放污水的行为进行处罚</td>\n",
       "    </tr>\n",
       "    <tr>\n",
       "      <th>4</th>\n",
       "      <td>7e7ed15e-0850-43ba-8b59-53589d415451</td>\n",
       "      <td>关于对中国烟草总公司北京市公司未取得排水许可证向城镇排水设施排放污水的处罚</td>\n",
       "      <td>2017年6月6日，我行政机关执法人员检查中发现，位于北京市朝阳区南新园西路2号，中国烟草总...</td>\n",
       "      <td>NaN</td>\n",
       "      <td>中国烟草总公司北京市公司</td>\n",
       "      <td>北京市通州区梨园地区大稿村</td>\n",
       "      <td>2017年14月7日</td>\n",
       "      <td>74cc2ff4-2796-40d5-a15f-d60c84747435</td>\n",
       "      <td>对排水户未取得排水许可证向城镇排水设施排放污水的行为进行处罚</td>\n",
       "    </tr>\n",
       "  </tbody>\n",
       "</table>\n",
       "</div>"
      ],
      "text/plain": [
       "                                     ID  \\\n",
       "0  df813208-d477-4801-b503-41bf77a2ef1e   \n",
       "1  0f742164-96de-45ec-a436-a5084812804a   \n",
       "2  04ba137b-ecd0-4bf6-afa5-78b995e89fc0   \n",
       "3  1d3969b1-01e1-4d52-ac04-8aeb95a7f376   \n",
       "4  7e7ed15e-0850-43ba-8b59-53589d415451   \n",
       "\n",
       "                                         NAME  \\\n",
       "0     北京市石景山区公厕粪肥管理处未取得污水排入排水管网许可证向城镇排水设施排放污水   \n",
       "1  北京必胜客比萨饼有限公司积水潭餐厅未取得污水排入排水管网许可证向城镇排水设施排放污水   \n",
       "2   北京天恒华辰物业管理有限责任公司未取得污水排入排水管网许可证向城镇排水设施排放污水   \n",
       "3    关于对北京市均豪物业管理股份有限公司未取得排水许可证向城镇排水设施排放污水的处罚   \n",
       "4       关于对中国烟草总公司北京市公司未取得排水许可证向城镇排水设施排放污水的处罚   \n",
       "\n",
       "                                       ILLEGAL_FACTS CITIZEN_NAME  \\\n",
       "0  经查实，北京市石景山区公厕粪肥管理处2016年6月在北京市石景山区京源路甲2号东门南侧20米...          NaN   \n",
       "1  经查实，北京必胜客比萨饼有限公司积水潭餐厅2007年12月在北京市西城区新街口北大街1号1号...          NaN   \n",
       "2  经查实，北京天恒华辰物业管理有限责任公司2015年在北京市西城区翠花街富国里小区向排水设施排...          NaN   \n",
       "3  2017年3月8日，我行政机关执法人员专项检查，发现位于北京市朝阳区朝阳北路199号，北京市...          NaN   \n",
       "4  2017年6月6日，我行政机关执法人员检查中发现，位于北京市朝阳区南新园西路2号，中国烟草总...          NaN   \n",
       "\n",
       "        COMPANY_NAME            ADDRESS PUNISHMENT_DATE  \\\n",
       "0     北京市石景山区公厕粪肥管理处      北京市石景山区京源路甲8号      2017年15月3日   \n",
       "1  北京必胜客比萨饼有限公司积水潭餐厅  北京市西城区新街口北大街1号1号楼       2017年7月4日   \n",
       "2   北京天恒华辰物业管理有限责任公司   北京市西城区裕中西里小区38号楼      2017年11月5日   \n",
       "3    北京市均豪物业管理股份有限公司     北京市平谷区夏各庄镇公司院内       2017年7月7日   \n",
       "4       中国烟草总公司北京市公司      北京市通州区梨园地区大稿村      2017年14月7日   \n",
       "\n",
       "                               POWER_ID                      POWER_NAME  \n",
       "0  74cc2ff4-2796-40d5-a15f-d60c84747435  对排水户未取得排水许可证向城镇排水设施排放污水的行为进行处罚  \n",
       "1  74cc2ff4-2796-40d5-a15f-d60c84747435  对排水户未取得排水许可证向城镇排水设施排放污水的行为进行处罚  \n",
       "2  74cc2ff4-2796-40d5-a15f-d60c84747435  对排水户未取得排水许可证向城镇排水设施排放污水的行为进行处罚  \n",
       "3  74cc2ff4-2796-40d5-a15f-d60c84747435  对排水户未取得排水许可证向城镇排水设施排放污水的行为进行处罚  \n",
       "4  74cc2ff4-2796-40d5-a15f-d60c84747435  对排水户未取得排水许可证向城镇排水设施排放污水的行为进行处罚  "
      ]
     },
     "execution_count": 115,
     "metadata": {},
     "output_type": "execute_result"
    }
   ],
   "source": [
    "df1=df_company[df_company['POWER_NAME']=='对排水户未取得排水许可证向城镇排水设施排放污水的行为进行处罚'].reset_index()\n",
    "df1=df1.drop(['Unnamed: 0','index'], axis = 1)\n",
    "df1.head()"
   ]
  },
  {
   "cell_type": "code",
   "execution_count": 117,
   "metadata": {
    "collapsed": true
   },
   "outputs": [
    {
     "data": {
      "text/plain": [
       "0                 北京市石景山区公厕粪肥管理处北京市石景山区京源路甲8号2017年15月3日\n",
       "1           北京必胜客比萨饼有限公司积水潭餐厅北京市西城区新街口北大街1号1号楼2017年7月4日\n",
       "2            北京天恒华辰物业管理有限责任公司北京市西城区裕中西里小区38号楼2017年11月5日\n",
       "3                北京市均豪物业管理股份有限公司北京市平谷区夏各庄镇公司院内2017年7月7日\n",
       "4                   中国烟草总公司北京市公司北京市通州区梨园地区大稿村2017年14月7日\n",
       "5         华熙鑫安（北京）物业管理有限公司北京市海淀区复兴路69号1号楼136室2017年12月6日\n",
       "6                 北京蟹闲居酒家有限公司北京市怀柔区怀柔镇南关村111号2017年14月6日\n",
       "7          北京弯月亮宾馆有限公司北京市石景山区古城北路6号（原菜蔬公司综合楼）2017年27月6日\n",
       "8        北京钱雨酒店有限公司(锦江之星）北京市朝阳区左家庄北里5号楼中南侧部分2017年13月11日\n",
       "9                    北京唐嘟香餐厅北京市西城区阜成门南大街甲5号二层2017年31月5日\n",
       "10    北京德合信国际商城有限公司五路居站分公司北京市海淀区地铁六号线五路居站地下一层、地上一层地铁...\n",
       "11                  北京中电瑞达物业有限公司北京市石景山区鲁谷路74号2017年22月9日\n",
       "12           北京天恒华辰物业管理有限责任公司北京市西城区裕中西里小区38号楼2017年28月8日\n",
       "13         北京前门金福德烤鸭店有限公司北沙滩酒店北京市朝阳区德胜门外北沙滩2号2017年28月8日\n",
       "14    北京三替城市管理有限责任公司北京市东城区永定门内东街中里9-17号398室 2017年18月10日\n",
       "15               北京市安城居家常菜馆北京市石景山区八角南里5号塔楼底商2017年10月10日\n",
       "16                    北京金锅轩涮肉坊北京市东城区仓南胡同甲12号2017年18月12日\n",
       "17            北京北辰信诚物业管理有限责任公司北京市朝阳区安慧里二区甲2号2017年24月10日\n",
       "18                      北京市营养源研究所北京市丰台区东滨河路4号2017年1月11日\n",
       "19                 北京市朝阳区北小河公园北京市朝阳区师家坟村156号2017年13月11日\n",
       "20               北京京洋房地产开发有限公司北京市顺义区府前东街甲2号1幢2018年18月1日\n",
       "21               京蝎府（北京）酒店管理有限公司北京市朝阳区延静里12号楼2018年26月1日\n",
       "22     北京善方医院有限公司北京市朝阳区工人体育场北路13号院4号楼6层1单元6012018年11月1日\n",
       "23                 北京美尔目医院有限公司北京市海淀区复兴路65号-22017年21月12日\n",
       "24      北京景安世华上地酒店有限公司北京市海淀区上地东路33号1号楼B1层01号2017年22月12日\n",
       "25               北京怡兴物业管理有限责任公司北京市朝阳区师家坟村156号2018年11月1日\n",
       "26        京港路劲物业管理（北京）有限公司北京市海淀区信息路15号519-0482018年26月1日\n",
       "27          北京市朝阳区卓悦童双语艺术幼儿园北京市朝阳区望京西园二区216栋2017年21月12日\n",
       "28      水西庄餐饮管理（北京）有限公司第一分公司北京市西城区护国寺大街106-1号2018年26月1日\n",
       "29                北京壶林庆丰包子铺北京市石景山区八角西街商业网点29号2018年30月1日\n",
       "30           北京桥底餐饮管理有限公司北京市怀柔区北房镇幸福西街1号301室2017年14月12日\n",
       "31    北京中天宏业房地产咨询有限责任公司北京市东城区东直门南大街9号4号楼地下二层211-219室...\n",
       "32         北京联合文众汽车服务有限公司北京市海淀区中关村南大街5号681号平房2018年26月1日\n",
       "33               北京慧屺御园餐饮有限公司北京市石景山区永乐西小区1号楼首层2018年6月3日\n",
       "34    如家和美酒店管理（北京）有限公司如家快捷朝阳门北小街店北京市东城区仓南胡同14号院1号楼20...\n",
       "35      北京中原华夏物业管理有限公司北京市朝阳区朝阳门外大街20号14层1404室2018年14月3日\n",
       "36                   北京南航明珠商务酒店 北京市朝阳区东三环南路2号2018年11月1日\n",
       "37                      北京市第八十中学北京市朝阳区白家庄西里2号2018年14月3日\n",
       "38              北京润丰世纪物业管理股份有限公司北京市朝阳区安立路60号院2018年14月3日\n",
       "39                  北京市东城区文惠餐厅北京市东城区交道口南大街87号2018年29月3日\n",
       "40    北京中奥马哥孛罗大酒店有限公司北京市朝阳区安立路78号北京市朝阳区安立路78号2018年29月3日\n",
       "41                  北京苹果园好大嫂面馆北京市石景山区西井路7号1号楼2018年22月5日\n",
       "42               北京坎普尔环保技术有限公司北京市平谷区马坊工业园区249号2018年2月5日\n",
       "43    隆润新技术发展有限公司（黄土岗粪便处理）站北京市丰台区科学城星火路11号B座2028室（园区...\n",
       "44                  北京劲松口腔医院有限公司 北京市丰台区方庄路5号楼2018年19月6日\n",
       "45                    北京积远利群小吃店 北京市东城区分司厅胡同5号2018年30月5日\n",
       "46                      北京香竹海小吃店 北京市海淀区三里河九号院2018年30月5日\n",
       "47    北京吉野家快餐有限公司新街口餐厅 北京市西城区新街口南大街24号1层2层和3层2018年30月5日\n",
       "48    北京禾谷园连锁经营有限公司主食快餐便利二号店 北京市海淀区甘家口增光路11楼1层2018年8月6日\n",
       "49    隆润新技术发展有限公司（西道口粪便处理）站北京市丰台区科学城星火路11号B座2028室（园区...\n",
       "50                 北京中和珍贝科技有限公司 北京市东城区珠市口东大街6号2018年4月7日\n",
       "51        北京通厦汽车配件有限责任公司 北京市海淀区四拨子车站路西平房1-39号2018年19月6日\n",
       "Name: FEATURE, dtype: object"
      ]
     },
     "execution_count": 117,
     "metadata": {},
     "output_type": "execute_result"
    }
   ],
   "source": [
    "for i in range(0,len(df1)):\n",
    "    feature=df1.iloc[i,4]+df1.iloc[i,5]+df1.iloc[i,6]\n",
    "    df1.loc[i,'FEATURE']=feature\n",
    "df1['FEATURE']"
   ]
  },
  {
   "cell_type": "code",
   "execution_count": 118,
   "metadata": {},
   "outputs": [
    {
     "name": "stdout",
     "output_type": "stream",
     "text": [
      "结束\n"
     ]
    }
   ],
   "source": [
    "scorce3=bc.encode(df1['FEATURE'].values.tolist())\n",
    "print('结束')\n",
    "np.save(\"scorce3.npy\",scorce)"
   ]
  },
  {
   "cell_type": "code",
   "execution_count": 124,
   "metadata": {},
   "outputs": [
    {
     "name": "stdout",
     "output_type": "stream",
     "text": [
      "请输入待推荐的关键词：北京通厦汽车配件有限责任公司 北京市海淀区四拨子车站路西平房1-39号2018年19月6日\n"
     ]
    },
    {
     "data": {
      "text/plain": [
       "51    经查实，北京通厦汽车配件有限责任公司在北京市海淀区四拨子车站路西平房1-39号楼南侧未取得排...\n",
       "32    经查实，北京联合文众汽车服务有限公司自2013年在北京市海淀区中关村南大街5号681号平房普...\n",
       "11    经查实，北京中电瑞达物业有限公司在北京市朝阳区林萃路1号上林世家未取得污水排入排水管网许可证...\n",
       "25    经查实，北京怡兴物业管理有限责任公司在北京市海淀区学清路8号科技财富中心西侧未取得污水排入排...\n",
       "42    北京坎普尔环保技术有限公司未取得污水排入排水管网许可证向北京市平谷区马坊工业园西区249号东...\n",
       "14    经查实，北京三替城市管理有限责任公司在北京市海淀区西四环北路158号未取得污水排入排水管网许...\n",
       "38    经查实，北京润丰世纪物业管理股份有限公司在北京市朝阳区安立路60号院润枫德尚苑小区南侧未取得...\n",
       "30    经查实，北京桥底餐饮管理有限公司在北京市朝阳区通惠河北路61号未取得污水排入排水管网许可证向...\n",
       "17    经查实,北京北辰信诚物业管理有限责任公司自2015年09月20日开始在北京市朝阳区北苑路18...\n",
       "3     2017年3月8日，我行政机关执法人员专项检查，发现位于北京市朝阳区朝阳北路199号，北京市...\n",
       "Name: ILLEGAL_FACTS, dtype: object"
      ]
     },
     "execution_count": 124,
     "metadata": {},
     "output_type": "execute_result"
    }
   ],
   "source": [
    "scorce_df=pd.DataFrame(columns=['ID','ILLEGAL_FACTS','SCORCE'])\n",
    "scorce_df['ID']=df1['ID']\n",
    "scorce_df['ILLEGAL_FACTS']=df1['ILLEGAL_FACTS']\n",
    "target=input(\"请输入待推荐的关键词：\")\n",
    "v1=bc.encode([target])\n",
    "sim_list=list()\n",
    "for i in range(0,len(df1)):\n",
    "    v2=scorce3[i]\n",
    "    vector1 = np.array(v1)\n",
    "    vector2 = np.array(v2)\n",
    "    sim=np.dot(vector1,vector2.T)/(np.linalg.norm(vector1)*(np.linalg.norm(vector2)))\n",
    "    sim_list.append(sim)\n",
    "scorce_df['SCORCE']=sim_list\n",
    "scorce_df=scorce_df.sort_values(by=['SCORCE'],ascending=False)\n",
    "scorce_df['ILLEGAL_FACTS'].head(10)"
   ]
  },
  {
   "cell_type": "code",
   "execution_count": 125,
   "metadata": {},
   "outputs": [
    {
     "name": "stdout",
     "output_type": "stream",
     "text": [
      "结束\n"
     ]
    }
   ],
   "source": [
    "scorce4=bc.encode(df1['ADDRESS'].values.tolist())\n",
    "print('结束')\n",
    "np.save(\"scorce4.npy\",scorce)"
   ]
  },
  {
   "cell_type": "code",
   "execution_count": 127,
   "metadata": {},
   "outputs": [
    {
     "name": "stdout",
     "output_type": "stream",
     "text": [
      "请输入待推荐的关键词：北京市丰台区\n"
     ]
    },
    {
     "data": {
      "text/plain": [
       "44    经查实，北京劲松口腔医院有限公司自2016年6月开始，在北京市丰台区方庄路5号楼未取得污水排...\n",
       "18    经查实，北京市营养源研究所于2016年9月20日起在北京市丰台区东滨河路4号未取得污水排入排...\n",
       "4     2017年6月6日，我行政机关执法人员检查中发现，位于北京市朝阳区南新园西路2号，中国烟草总...\n",
       "42    北京坎普尔环保技术有限公司未取得污水排入排水管网许可证向北京市平谷区马坊工业园西区249号东...\n",
       "21    经查实，2011年3月起，京蝎府（北京）酒店管理有限公司在北京市朝阳区延静里12号楼经营的蝎...\n",
       "3     2017年3月8日，我行政机关执法人员专项检查，发现位于北京市朝阳区朝阳北路199号，北京市...\n",
       "38    经查实，北京润丰世纪物业管理股份有限公司在北京市朝阳区安立路60号院润枫德尚苑小区南侧未取得...\n",
       "46    经查实，自2007年始，你单位在北京市海淀区三里河九号院成都美食巫山烤鱼未取得排水许可证向城...\n",
       "25    经查实，北京怡兴物业管理有限责任公司在北京市海淀区学清路8号科技财富中心西侧未取得污水排入排...\n",
       "19    经查实，北京市朝阳区北小河公园在北京市朝阳区师家坟村156号未取得污水排入排水管网许可证向城...\n",
       "Name: ILLEGAL_FACTS, dtype: object"
      ]
     },
     "execution_count": 127,
     "metadata": {},
     "output_type": "execute_result"
    }
   ],
   "source": [
    "scorce_df=pd.DataFrame(columns=['ID','ILLEGAL_FACTS','SCORCE'])\n",
    "scorce_df['ID']=df1['ID']\n",
    "scorce_df['ILLEGAL_FACTS']=df1['ILLEGAL_FACTS']\n",
    "target=input(\"请输入待推荐的关键词：\")\n",
    "v1=bc.encode([target])\n",
    "sim_list=list()\n",
    "for i in range(0,len(df1)):\n",
    "    v2=scorce4[i]\n",
    "    vector1 = np.array(v1)\n",
    "    vector2 = np.array(v2)\n",
    "    sim=np.dot(vector1,vector2.T)/(np.linalg.norm(vector1)*(np.linalg.norm(vector2)))\n",
    "    sim_list.append(sim)\n",
    "scorce_df['SCORCE']=sim_list\n",
    "scorce_df=scorce_df.sort_values(by=['SCORCE'],ascending=False)\n",
    "scorce_df['ILLEGAL_FACTS'].head(10)"
   ]
  },
  {
   "cell_type": "code",
   "execution_count": null,
   "metadata": {},
   "outputs": [],
   "source": []
  },
  {
   "cell_type": "code",
   "execution_count": null,
   "metadata": {},
   "outputs": [],
   "source": []
  }
 ],
 "metadata": {
  "kernelspec": {
   "display_name": "Python 3",
   "language": "python",
   "name": "python3"
  },
  "language_info": {
   "codemirror_mode": {
    "name": "ipython",
    "version": 3
   },
   "file_extension": ".py",
   "mimetype": "text/x-python",
   "name": "python",
   "nbconvert_exporter": "python",
   "pygments_lexer": "ipython3",
   "version": "3.6.4"
  }
 },
 "nbformat": 4,
 "nbformat_minor": 2
}
