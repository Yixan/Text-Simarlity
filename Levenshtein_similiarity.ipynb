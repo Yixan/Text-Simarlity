{
 "cells": [
  {
   "cell_type": "code",
   "execution_count": 1,
   "metadata": {},
   "outputs": [],
   "source": [
    "import Levenshtein\n",
    "import pandas as pd\n",
    "import numpy as np\n",
    "import re"
   ]
  },
  {
   "cell_type": "code",
   "execution_count": 2,
   "metadata": {},
   "outputs": [],
   "source": [
    "str1='2017年8月28日9时45分, 李宏印驾驶的冀C79805冀CR689挂号货物运输车辆，行驶至110高速公路综合检查站，经执法人员武翼（执法证号：11310165）、吴建勋（执法证号：11310123）示证检查：该车取得普通货物道路运输证，拉煤，从辽宁到河北，该车驾驶员无《从业资格证》。当事人李宏印的行为构成了不符合规定条件的人员驾驶道路运输经营车辆。'\n",
    "str2='2017年4月20日12时30分, 梁北红驾驶的京QQ99J8号货物运输车辆，行驶至延庆区110高速公路综合检查站，经执法人员张伟（执法证号：11310095）、耿文东（执法证号：11310167）示证检查：该车取得普通货物道路运输证，拉汽车，从内蒙古到北京，该车驾驶员无《从业资格证》。当事人梁北红的行为构成了不符合规定条件的人员驾驶道路运输经营车辆。'\n",
    "str3='2017年9月份，在未取得林业主管部门批准的情况下，擅自将自家位于本村二道沟（小地名）退耕还林地内的8株杨树砍伐。经鉴定，砍伐的8株杨树总蓄积量为2.358立方米，价值为人民币459.81元。'"
   ]
  },
  {
   "cell_type": "code",
   "execution_count": 3,
   "metadata": {},
   "outputs": [
    {
     "data": {
      "text/plain": [
       "164"
      ]
     },
     "execution_count": 3,
     "metadata": {},
     "output_type": "execute_result"
    }
   ],
   "source": [
    "sim = Levenshtein.distance(str1, str3)\n",
    "sim"
   ]
  },
  {
   "cell_type": "code",
   "execution_count": 4,
   "metadata": {},
   "outputs": [
    {
     "data": {
      "text/plain": [
       "0.11678832116788321"
      ]
     },
     "execution_count": 4,
     "metadata": {},
     "output_type": "execute_result"
    }
   ],
   "source": [
    "sim = Levenshtein.ratio(str1, str3)\n",
    "sim"
   ]
  },
  {
   "cell_type": "code",
   "execution_count": 5,
   "metadata": {},
   "outputs": [],
   "source": [
    "file = open(\"D:\\\\NLP\\\\case_recommender\\\\recommender.txt\", 'a', encoding='utf-8')\n",
    "basic_df = pd.read_csv('D:\\\\NLP\\\\case_recommender\\\\data\\\\basic_bj.csv')"
   ]
  },
  {
   "cell_type": "code",
   "execution_count": 6,
   "metadata": {},
   "outputs": [],
   "source": [
    "stopwords = set()\n",
    "with open('D:\\\\NLP\\\\case_recommender\\\\data\\\\stopwords.txt', \"r\", encoding=\"utf-8\") as f_stopwords:\n",
    "    for line in f_stopwords:\n",
    "        stopwords.add(line.strip())"
   ]
  },
  {
   "cell_type": "code",
   "execution_count": 7,
   "metadata": {},
   "outputs": [],
   "source": [
    "x_test=list()\n",
    "case_id_list=list()\n",
    "case_order_list=list()\n",
    "pattern = re.compile('\\s+')\n",
    "with open('D:\\\\NLP\\\\case_recommender\\\\data\\\\test2.txt','r',encoding='utf-8') as test_file:\n",
    "    for line in test_file.readlines():\n",
    "#         print(basic_df[basic_df.ID == line.split('\\t')[0]].index.tolist()[0])\n",
    "#         break\n",
    "        case_id_list.append(line.split('\\t')[0])\n",
    "        case_order_list.append(basic_df[basic_df.ID == line.split('\\t')[0]].index.tolist()[0])\n",
    "        line=line.split('\\t')[2]\n",
    "        dataline = [x for x in re.sub(pattern, '', line) if x not in stopwords]\n",
    "        dataline=''.join(dataline)\n",
    "        x_test.append(dataline)"
   ]
  },
  {
   "cell_type": "code",
   "execution_count": 19,
   "metadata": {},
   "outputs": [
    {
     "data": {
      "text/plain": [
       "'2017年6月5日11时10分,李强驾驶的辽H40172辽HL955挂号货物运输车辆，行驶至延庆区110高速公路综合检查站，经执法人员武翼（执法证号：11310165）、吴建勋（执法证号：11310123）示证检查：该车取得普通货物道路运输证，拉有机肥，从甘肃到辽宁，该车驾驶员无《从业资格证》。当事人李强的行为构成了不符合规定条件的人员驾驶道路运输经营车辆。'"
      ]
     },
     "execution_count": 19,
     "metadata": {},
     "output_type": "execute_result"
    }
   ],
   "source": [
    "pd.set_option(\"display.max_colwidth\",2000)\n",
    "target = np.random.randint(0, high=len(x_test))\n",
    "c = case_id_list[target]\n",
    "target_line1 = basic_df[basic_df.ID == c]\n",
    "targic_order=basic_df[basic_df.ID == c].index.tolist()[0]\n",
    "target_line=re.sub(pattern, '', basic_df[basic_df.ID == c].ILLEGAL_FACTS.to_string(index=False))\n",
    "target_line"
   ]
  },
  {
   "cell_type": "code",
   "execution_count": 20,
   "metadata": {},
   "outputs": [
    {
     "data": {
      "text/plain": [
       "58"
      ]
     },
     "execution_count": 20,
     "metadata": {},
     "output_type": "execute_result"
    }
   ],
   "source": [
    "r_file=open ('recommender.txt','a',encoding='utf-8')\n",
    "r_file.write(\"####################### 待推荐案例 ##########################\\n\")\n",
    "r_file.write(target_line+'\\n\\n')\n",
    "r_file.write(\"####################### 推荐结果 ############################\\n\")\n",
    "# r_file.close()"
   ]
  },
  {
   "cell_type": "code",
   "execution_count": 21,
   "metadata": {},
   "outputs": [],
   "source": [
    "recommander=dict()\n",
    "#开始推荐\n",
    "for case_order in case_order_list:\n",
    "    candidate_line=basic_df.iloc[case_order].ILLEGAL_FACTS\n",
    "    sim=Levenshtein.jaro_winkler(target_line, candidate_line)\n",
    "    recommander[case_order] = sim\n"
   ]
  },
  {
   "cell_type": "code",
   "execution_count": 22,
   "metadata": {},
   "outputs": [
    {
     "name": "stdout",
     "output_type": "stream",
     "text": [
      "####################### 待推荐案例 ##########################\n",
      "\n",
      "2017年6月5日11时10分,李强驾驶的辽H40172辽HL955挂号货物运输车辆，行驶至延庆区110高速公路综合检查站，经执法人员武翼（执法证号：11310165）、吴建勋（执法证号：11310123）示证检查：该车取得普通货物道路运输证，拉有机肥，从甘肃到辽宁，该车驾驶员无《从业资格证》。当事人李强的行为构成了不符合规定条件的人员驾驶道路运输经营车辆。\n",
      "####################### 推荐结果 ############################\n",
      "\n",
      "2017年6月19日20时55分, 聂飞飞驾驶的冀G84070冀GW065挂号货物运输车辆，行驶至110高速公路综合检查站，经执法人员武翼（执法证号：11310165）、吴建勋（执法证号：11310123）示证检查：该车取得普通货物道路运输证，拉煤，从河北到天津，该车驾驶员无《从业资格证》。当事人聂飞飞 的行为构成了不符合规定条件的人员驾驶道路运输经营车辆。\n",
      "2017年6月2日11时10分, 高海龙驾驶的辽P71415辽PK025挂号货物运输车辆，行驶至延庆区110高速公路综合检查站，经执法人员武翼（执法证号：11310165）、吴建勋（执法证号：11310123）示证检查：该车取得普通货物道路运输证，拉焦炭，从宁夏到辽宁，该车驾驶员无《从业资格证》。当事人高海龙 的行为构成了不符合规定条件的人员驾驶道路运输经营车辆。\n",
      "2017年6月11日11时10分, 李春涛驾驶的辽PD0770辽P2622挂号货物运输车辆，行驶至110高速公路综合检查站，经执法人员武翼（执法证号：11310165）、吴建勋（执法证号：11310123）示证检查：该车取得普通货物道路运输证，拉煤，从山西到辽宁，该车驾驶员无《从业资格证》。当事人李春涛 的行为构成了不符合规定条件的人员驾驶道路运输经营车辆。\n",
      "2017年6月11日10时30分, 杨君驾驶的辽956520辽P2296挂号货物运输车辆，行驶至110高速公路综合检查站，经执法人员武翼（执法证号：11310165）、吴建勋（执法证号：11310123）示证检查：该车取得普通货物道路运输证，拉煤，从山西到辽宁，该车驾驶员无《从业资格证》。当事人杨君 的行为构成了不符合规定条件的人员驾驶道路运输经营车辆。\n",
      "2017年6月18日16时52分, 林景学驾驶的津AR1051冀J1B71挂号货物运输车辆，行驶至110高速公路综合检查站，经执法人员李海涛（执法证号：11310097）、孙佳臣（执法证号：11310166）示证检查：该车取得普通货物道路运输证，拉煤，从河北省到天津市，该车驾驶员无《从业资格证》。当事人林景学的行为构成了不符合规定条件的人员驾驶道路运输经营车辆。\n",
      "2017年6月11日11时10分, 孙爱笔驾驶的冀GE0686冀GNP40挂号货物运输车辆，行驶至110高速公路综合检查站，经执法人员武翼（执法证号：11310165）、吴建勋（执法证号：11310123）示证检查：该车取得普通货物道路运输证，拉煤，从内蒙古到唐山，该车驾驶员无《从业资格证》。当事人孙爱笔 的行为构成了不符合规定条件的人员驾驶道路运输经营车辆。\n",
      "2017年6月9日12时10分, 陈业刚驾驶的京AP6631号货物运输车辆，行驶至110高速公路综合检查站，经执法人员李海涛（执法证号：11310097）、孙佳臣（执法证号：11310166）示证检查：该车取得普通货物道路运输证，拉水泥添加剂，从河北省到北京市，该车驾驶员无《从业资格证》。当事人陈业刚的行为构成了不符合规定条件的人员驾驶道路运输经营车辆。\n",
      "2017年4月24日10时10分, 韩立成驾驶的冀G82437冀GD696挂号货物运输车辆，行驶至延庆区110高速公路综合检查站，经执法人员武翼（执法证号：11310165）、吴建勋（执法证号：11310123）示证检查：该车取得普通货物道路运输证，拉粉煤灰，从河北到北京，该车驾驶员无《从业资格证》。当事人韩立成 的行为构成了不符合规定条件的人员驾驶道路运输经营车辆。\n",
      "2017年6月24日11时40分, 李全驾驶的吉D22763吉D2180挂号货物运输车辆，行驶至110高速公路综合检查站，经执法人员李海涛（执法证号：11310097）、孙佳臣（执法证号：11310166）示证检查：该车取得普通货物道路运输证，拉煤，从内蒙古自治区到河北省唐山市，该车驾驶员无《从业资格证》。当事人李全的行为构成了不符合规定条件的人员驾驶道路运输经营车辆。\n",
      "2017年4月27日11时20分, 李海亮驾驶的冀B8303B冀BCL65挂号货物运输车辆，行驶至延庆区110高速公路综合检查站，经执法人员武翼（执法证号：11310165）、吴建勋（执法证号：11310123）示证检查：该车取得普通货物道路运输证，拉煤，从内蒙古到唐山，该车驾驶员无《从业资格证》。当事人李海亮 的行为构成了不符合规定条件的人员驾驶道路运输经营车辆。\n"
     ]
    }
   ],
   "source": [
    "print(\"####################### 待推荐案例 ##########################\\n\")\n",
    "print(target_line )\n",
    "print(\"####################### 推荐结果 ############################\\n\")\n",
    "for pre in sorted(recommander.items(),key=lambda x:x[1],reverse=True)[1:11]:\n",
    "#     basic_df[basic_df.ID ==pre[0]].ILLEGAL_FACTS.to_csv('recommender_transport.txt', mode='a', header=False)\n",
    "    r_file.write(re.sub(pattern, '',basic_df.iloc[pre[0]].ILLEGAL_FACTS)+'\\n\\n')\n",
    "    print(basic_df.iloc[pre[0]].ILLEGAL_FACTS)\n",
    "r_file.write('\\n')\n",
    "r_file.close()"
   ]
  },
  {
   "cell_type": "code",
   "execution_count": 7,
   "metadata": {},
   "outputs": [
    {
     "data": {
      "text/plain": [
       "0.9464285714285714"
      ]
     },
     "execution_count": 7,
     "metadata": {},
     "output_type": "execute_result"
    }
   ],
   "source": [
    "Levenshtein.jaro_winkler('william', 'willlaim')"
   ]
  },
  {
   "cell_type": "code",
   "execution_count": null,
   "metadata": {},
   "outputs": [],
   "source": []
  }
 ],
 "metadata": {
  "kernelspec": {
   "display_name": "Python 3",
   "language": "python",
   "name": "python3"
  },
  "language_info": {
   "codemirror_mode": {
    "name": "ipython",
    "version": 3
   },
   "file_extension": ".py",
   "mimetype": "text/x-python",
   "name": "python",
   "nbconvert_exporter": "python",
   "pygments_lexer": "ipython3",
   "version": "3.6.4"
  }
 },
 "nbformat": 4,
 "nbformat_minor": 2
}
